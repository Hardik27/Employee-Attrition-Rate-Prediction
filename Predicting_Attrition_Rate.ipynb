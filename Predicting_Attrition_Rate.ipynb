{
  "nbformat": 4,
  "nbformat_minor": 0,
  "metadata": {
    "colab": {
      "name": "Predicting Attrition Rate.ipynb",
      "provenance": [],
      "collapsed_sections": []
    },
    "kernelspec": {
      "name": "python3",
      "display_name": "Python 3"
    }
  },
  "cells": [
    {
      "cell_type": "code",
      "metadata": {
        "id": "zPGoZpzU9GQF"
      },
      "source": [
        "import pandas as pd\n",
        "import numpy as np\n",
        "from sklearn.impute import SimpleImputer\n",
        "from sklearn import preprocessing\n",
        "from sklearn.model_selection import train_test_split\n",
        "from sklearn import linear_model\n",
        "from sklearn.linear_model import LinearRegression\n",
        "from sklearn.ensemble import RandomForestRegressor\n",
        "from sklearn.linear_model import SGDRegressor\n",
        "from sklearn.pipeline import make_pipeline\n",
        "from sklearn.preprocessing import StandardScaler\n",
        "from sklearn.linear_model import PassiveAggressiveRegressor\n",
        "from sklearn.metrics import mean_squared_error\n",
        "from sklearn.metrics import mean_absolute_error\n",
        "from sklearn.datasets import make_regression\n",
        "from sklearn.model_selection import train_test_split\n",
        "from sklearn.feature_selection import SelectKBest\n",
        "from sklearn.feature_selection import f_regression\n",
        "from sklearn.feature_selection import mutual_info_regression\n",
        "from matplotlib import pyplot\n",
        "from sklearn.feature_selection import RFE\n",
        "from sklearn.svm import SVR\n",
        "from sklearn import datasets, ensemble\n",
        "from sklearn.ensemble import GradientBoostingRegressor"
      ],
      "execution_count": null,
      "outputs": []
    },
    {
      "cell_type": "code",
      "metadata": {
        "id": "zvIsXdWC9a8D"
      },
      "source": [
        "#Loading the train and test sets\n",
        "\n",
        "data=pd.read_csv('Train.csv')\n",
        "test=pd.read_csv('Test.csv')\n",
        "test.head()"
      ],
      "execution_count": null,
      "outputs": []
    },
    {
      "cell_type": "code",
      "metadata": {
        "id": "IPpDc4FS9kbi"
      },
      "source": [
        "#Exploratory data analysis(EDA) on the train set\n",
        "\n",
        "#data['Unit'].unique()\n",
        "cat = data.select_dtypes(include=['O'])\n",
        "cat.apply(pd.Series.nunique)\n",
        "test.isnull().sum()\n",
        "#data['VAR3'].value_counts()\n",
        "#data['Pay_Scale'].mean()\n",
        "#data.isnull().sum()"
      ],
      "execution_count": null,
      "outputs": []
    },
    {
      "cell_type": "code",
      "metadata": {
        "id": "LrgxScB290m6"
      },
      "source": [
        "#Filling missing values in training data using mean/mode\n",
        "\n",
        "data['Age'].fillna(data['Age'].mean(),inplace=True)\n",
        "data['Time_of_service'].fillna(data['Time_of_service'].mean(),inplace=True)\n",
        "data['Work_Life_balance'].fillna(data['Work_Life_balance'].mean(),inplace=True)\n",
        "data['VAR2'].fillna(data['VAR2'].mean(),inplace=True)\n",
        "data['VAR4'].fillna(data['VAR4'].value_counts().idxmax(),inplace=True)\n",
        "data['Pay_Scale'].fillna(data['Pay_Scale'].mean(),inplace=True)\n",
        "data.isnull().sum()"
      ],
      "execution_count": null,
      "outputs": []
    },
    {
      "cell_type": "code",
      "metadata": {
        "id": "fyknZh2JiYrO"
      },
      "source": [
        "data['Age'].fillna(data['Age'].mode().iloc[0],inplace=True)\n",
        "data['Time_of_service'].fillna(data['Time_of_service'].mode().iloc[0],inplace=True)\n",
        "data['Work_Life_balance'].fillna(data['Work_Life_balance'].mode().iloc[0],inplace=True)\n",
        "data['VAR2'].fillna(data['VAR2'].mode().iloc[0],inplace=True)\n",
        "data['VAR4'].fillna(data['VAR4'].value_counts().idxmax(),inplace=True)\n",
        "data['Pay_Scale'].fillna(data['Pay_Scale'].mode().iloc[0],inplace=True)\n",
        "#data.isnull().sum()"
      ],
      "execution_count": null,
      "outputs": []
    },
    {
      "cell_type": "code",
      "metadata": {
        "id": "Iuw5flw6z_T0"
      },
      "source": [
        "#Filling missing values in the test data\n",
        "\n",
        "test['Age'].fillna(test['Age'].mode().iloc[0],inplace=True)\n",
        "test['Time_of_service'].fillna(test['Time_of_service'].mode().iloc[0],inplace=True)\n",
        "test['Work_Life_balance'].fillna(test['Work_Life_balance'].mode().iloc[0],inplace=True)\n",
        "test['VAR2'].fillna(test['VAR2'].mode().iloc[0],inplace=True)\n",
        "test['VAR4'].fillna(test['VAR4'].value_counts().idxmax(),inplace=True)\n",
        "test['Pay_Scale'].fillna(test['Pay_Scale'].mode().iloc[0],inplace=True)"
      ],
      "execution_count": null,
      "outputs": []
    },
    {
      "cell_type": "code",
      "metadata": {
        "id": "YCUUf_Nl_O27"
      },
      "source": [
        "#Using label encoder for categorical variables\n",
        "\n",
        "for x in data.columns:\n",
        "    if data[x].dtype == 'object':\n",
        "        lbl = preprocessing.LabelEncoder()\n",
        "        lbl.fit(list(data[x].values))\n",
        "        data[x] = lbl.transform(list(data[x].values))\n",
        "#data.isnull().sum()\n",
        "\n",
        "\n",
        "for x in test.columns:\n",
        "    if(x=='Employee_ID') :\n",
        "        continue\n",
        "    if test[x].dtype == 'object':\n",
        "        lbl = preprocessing.LabelEncoder()\n",
        "        lbl.fit(list(test[x].values))\n",
        "        test[x] = lbl.transform(list(test[x].values))\n",
        "#test.isnull().sum()"
      ],
      "execution_count": null,
      "outputs": []
    },
    {
      "cell_type": "code",
      "metadata": {
        "id": "G2HB5fjT-5KF"
      },
      "source": [
        "#Using One-hot encoding(OHE) for categorical variables\n",
        "\n",
        "data=pd.get_dummies(data, columns=[\"Gender\", \"Relationship_Status\",\"Hometown\",\"Unit\",\"Decision_skill_possess\",\"Compensation_and_Benefits\"], prefix=[\"gen\", \"Rel\",\"Town\",\"Unit\",\"Skill\",\"C&B\"])\n",
        "test=pd.get_dummies(test, columns=[\"Gender\", \"Relationship_Status\",\"Hometown\",\"Unit\",\"Decision_skill_possess\",\"Compensation_and_Benefits\"], prefix=[\"gen\", \"Rel\",\"Town\",\"Unit\",\"Skill\",\"C&B\"])"
      ],
      "execution_count": null,
      "outputs": []
    },
    {
      "cell_type": "code",
      "metadata": {
        "id": "QSiY_30HXIIY"
      },
      "source": [
        "#Creating train and test data \n",
        "\n",
        "X=data.loc[:,list(data.columns[1:23])]\n",
        "#+list(data.columns[18:48])\n",
        "Y=data.iloc[:,23]\n",
        "\n",
        "#Test data size is 0.5% since the actual testing is done by Hacker Earth\n",
        "X_train, X_test, Y_train, Y_test = train_test_split( X , Y , test_size = 0.005, random_state = 0,shuffle=True) "
      ],
      "execution_count": null,
      "outputs": []
    },
    {
      "cell_type": "code",
      "metadata": {
        "id": "4Ku4EcYQxOa6"
      },
      "source": [
        "Xtest=test.iloc[:,1:23]\n",
        "Xtest"
      ],
      "execution_count": null,
      "outputs": []
    },
    {
      "cell_type": "code",
      "metadata": {
        "id": "WhnpbV39fCkW",
        "outputId": "4ac32eff-6903-4c02-f439-e7fb3c7f8eeb",
        "colab": {
          "base_uri": "https://localhost:8080/",
          "height": 102
        }
      },
      "source": [
        "#Using various feature selection techniques to get the features which give the maximum information\n",
        "\n",
        "fs = SelectKBest(score_func=mutual_info_regression, k= 'all')\n",
        "fs.fit(X_train,Y_train)\n",
        "fs.scores_\n",
        "X_train_fs=fs.transform(X_train)\n",
        "Xtest_fs=fs.transform(Xtest)\n",
        "X_test_fs=fs.transform(X_test)\n",
        "fs.scores_"
      ],
      "execution_count": null,
      "outputs": [
        {
          "output_type": "execute_result",
          "data": {
            "text/plain": [
              "array([0.00172403, 0.0136035 , 0.        , 0.        , 0.00714683,\n",
              "       0.00120465, 0.00521746, 0.        , 0.00436587, 0.01106973,\n",
              "       0.        , 0.        , 0.00610226, 0.        , 0.        ,\n",
              "       0.        , 0.01143245, 0.00877802, 0.        , 0.00072529,\n",
              "       0.00254051, 0.        ])"
            ]
          },
          "metadata": {
            "tags": []
          },
          "execution_count": 266
        }
      ]
    },
    {
      "cell_type": "code",
      "metadata": {
        "id": "03EkcKoScRH0",
        "outputId": "313b06d1-28aa-42da-ec0d-df9258461370",
        "colab": {
          "base_uri": "https://localhost:8080/",
          "height": 265
        }
      },
      "source": [
        "pyplot.bar([i for i in range(len(fs.scores_))], fs.scores_)\n",
        "pyplot.show()"
      ],
      "execution_count": null,
      "outputs": [
        {
          "output_type": "display_data",
          "data": {
            "image/png": "[encoded data removed]",
            "text/plain": [
              "<Figure size 432x288 with 1 Axes>"
            ]
          },
          "metadata": {
            "tags": [],
            "needs_background": "light"
          }
        }
      ]
    },
    {
      "cell_type": "markdown",
      "metadata": {
        "id": "oOz81zuDWwHG"
      },
      "source": [
        "Using various regression algorithms and hyperparameter tuning to get the best results"
      ]
    },
    {
      "cell_type": "code",
      "metadata": {
        "id": "-dOI_MrEcgny"
      },
      "source": [
        "\n",
        "reg =  LinearRegression().fit(X_train_fs, Y_train)\n",
        "reg.score(X_test_fs,Y_test)\n",
        "Y_pred=reg.predict(Xtest_fs)\n",
        "#score_train = mean_absolute_error(Y_test,Y_pred)\n",
        "#score_train"
      ],
      "execution_count": null,
      "outputs": []
    },
    {
      "cell_type": "code",
      "metadata": {
        "id": "2Tj_0FqNd0_W"
      },
      "source": [
        "regr = RandomForestRegressor(max_depth=2, random_state=0,n_estimators=100)\n",
        "regr.fit(X_train_fs, Y_train)\n",
        "regr.score(X_test_fs,Y_test)\n",
        "Y_pred=regr.predict(Xtest_fs)\n",
        "#score_train = mean_absolute_error(Y_test,Y_pred)\n",
        "#score_train"
      ],
      "execution_count": null,
      "outputs": []
    },
    {
      "cell_type": "code",
      "metadata": {
        "id": "G8JdTgzadnor"
      },
      "source": [
        "reg = make_pipeline(StandardScaler(),SGDRegressor(max_iter=10000, tol=1e-3))\n",
        "reg.fit(X_train_fs, Y_train)\n",
        "reg.score(X_test_fs,Y_test)\n",
        "Y_pred=reg.predict(Xtest_fs)\n",
        "#score_train = mean_squared_error(Y_test,Y_pred)\n",
        "#score_train"
      ],
      "execution_count": null,
      "outputs": []
    },
    {
      "cell_type": "code",
      "metadata": {
        "id": "h6BKlT_N79sv"
      },
      "source": [
        "regr = PassiveAggressiveRegressor(max_iter=100, random_state=0,tol=1e-3)\n",
        "regr.fit(X_train_fs, Y_train)\n",
        "regr.score(X_test_fs,Y_test)\n",
        "Y_pred=regr.predict(Xtest_fs)\n",
        "#score_train = mean_squared_error(Y_test,Y_pred)\n",
        "#score_train"
      ],
      "execution_count": null,
      "outputs": []
    },
    {
      "cell_type": "code",
      "metadata": {
        "id": "WrvJbkWgWnuB"
      },
      "source": [
        "regr = GradientBoostingRegressor(random_state=0)\n",
        "regr.fit(X_train_fs, Y_train)\n",
        "regr.score(X_test_fs,Y_test)\n",
        "Y_pred=regr.predict(Xtest_fs)"
      ],
      "execution_count": null,
      "outputs": []
    },
    {
      "cell_type": "code",
      "metadata": {
        "id": "TDgl-oT_0fO5",
        "outputId": "fca2e140-70ab-4adf-fc2f-07cf53cebc17",
        "colab": {
          "base_uri": "https://localhost:8080/",
          "height": 68
        }
      },
      "source": [
        "estimator = SVR(kernel=\"linear\")\n",
        "selector = RFE(estimator, n_features_to_select=10, step=1)\n",
        "selector = selector.fit(X_train, Y_train)\n",
        "selector.support_\n"
      ],
      "execution_count": null,
      "outputs": [
        {
          "output_type": "execute_result",
          "data": {
            "text/plain": [
              "array([ True, False,  True, False,  True, False,  True, False, False,\n",
              "       False, False,  True, False,  True, False,  True,  True,  True,\n",
              "        True, False, False, False])"
            ]
          },
          "metadata": {
            "tags": []
          },
          "execution_count": 58
        }
      ]
    },
    {
      "cell_type": "code",
      "metadata": {
        "id": "lfEA1zl57iFB"
      },
      "source": [
        "print(selector.ranking_)\n",
        "print(selector.score(X_train,Y_train))\n",
        "Y_pred=selector.predict(X_test)\n",
        "score_train = mean_squared_error(Y_test,Y_pred)\n",
        "score_train"
      ],
      "execution_count": null,
      "outputs": []
    },
    {
      "cell_type": "code",
      "metadata": {
        "id": "wGSxVT5F7nwR"
      },
      "source": [
        "#Creating final csv file with the test data and the predictions\n",
        "\n",
        "final_ans=test.iloc[:,0]\n",
        "final_ans=pd.DataFrame(final_ans)\n",
        "final_ans.insert(1,\"Attrition_rate\",Y_pred)\n",
        "final_ans.to_csv('ouputAllColumns.csv')"
      ],
      "execution_count": null,
      "outputs": []
    },
    {
      "cell_type": "code",
      "metadata": {
        "id": "gMYwlk651yS3"
      },
      "source": [
        "final_ans[final_ans.Attrition_rate>0.18]\n",
        "Y_pred[Y_pred>0.16].shape"
      ],
      "execution_count": null,
      "outputs": []
    }
  ]
}